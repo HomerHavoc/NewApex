
# --- SIMPLE HOME RUN PREDICTION ENGINE (GOOGLE COLAB) ---
# STEP 1: Install required libraries
!pip install pandas scikit-learn matplotlib beautifulsoup4 requests

# STEP 2: Import Libraries
import pandas as pd
import numpy as np
from sklearn.ensemble import RandomForestRegressor
from sklearn.model_selection import train_test_split
from sklearn.metrics import mean_squared_error, r2_score
import requests
from bs4 import BeautifulSoup
import matplotlib.pyplot as plt

# STEP 3: Simulated Sample Data (Replace this with live scrape later)
np.random.seed(42)
n_samples = 500

data = pd.DataFrame({
    "barrel_pct": np.random.uniform(5, 20, n_samples),
    "avg_exit_velocity": np.random.uniform(85, 95, n_samples),
    "launch_angle": np.random.uniform(10, 35, n_samples),
    "hard_hit_pct": np.random.uniform(30, 60, n_samples),
    "iso": np.random.uniform(0.1, 0.35, n_samples),
    "xSLG": np.random.uniform(0.3, 0.7, n_samples),
    "pull_flyball_pct": np.random.uniform(25, 50, n_samples),
    "hr_9_pitcher": np.random.uniform(0.5, 2.5, n_samples),
    "pitcher_barrel_pct_allowed": np.random.uniform(3, 12, n_samples),
    "pitch_type_match_score": np.random.uniform(0, 1, n_samples),
    "ballpark_hr_factor": np.random.uniform(90, 130, n_samples),
    "wind_speed": np.random.uniform(0, 20, n_samples),
    "temperature": np.random.uniform(50, 100, n_samples),
    "xHR_prob": np.random.uniform(0, 0.3, n_samples)
})

# STEP 4: Train Model
X = data.drop(columns=["xHR_prob"])
y = data["xHR_prob"]
X_train, X_test, y_train, y_test = train_test_split(X, y, test_size=0.2)

model = RandomForestRegressor(n_estimators=100, random_state=42)
model.fit(X_train, y_train)

# STEP 5: Evaluate
y_pred = model.predict(X_test)
mse = mean_squared_error(y_test, y_pred)
r2 = r2_score(y_test, y_pred)

print("MSE:", mse)
print("R2 Score:", r2)

# STEP 6: Feature Importance
importances = model.feature_importances_
features = X.columns
feat_df = pd.DataFrame({"Feature": features, "Importance": importances}).sort_values(by="Importance", ascending=False)
print(feat_df)

# STEP 7: Visualization
plt.figure(figsize=(10,6))
plt.barh(feat_df['Feature'], feat_df['Importance'])
plt.title("Feature Importances in HR Prediction Model")
plt.gca().invert_yaxis()
plt.show()
